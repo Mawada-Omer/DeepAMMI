{
 "cells": [
  {
   "cell_type": "code",
   "execution_count": 0,
   "metadata": {
    "colab": {},
    "colab_type": "code",
    "id": "sAGASUmP8qB0"
   },
   "outputs": [],
   "source": [
    "! mkdir .kaggle"
   ]
  },
  {
   "cell_type": "code",
   "execution_count": 0,
   "metadata": {
    "colab": {},
    "colab_type": "code",
    "id": "9o-L8Pnt9Cuo"
   },
   "outputs": [],
   "source": [
    "import json"
   ]
  },
  {
   "cell_type": "code",
   "execution_count": 0,
   "metadata": {
    "colab": {},
    "colab_type": "code",
    "id": "bFA4VtSz9LHj"
   },
   "outputs": [],
   "source": [
    "token = {\"username\":\"mawadaomer\",\"key\":\"b73b4e627d68f8f984aebb3aae4c0b73\"} #Token downloaded from kaggle"
   ]
  },
  {
   "cell_type": "code",
   "execution_count": 0,
   "metadata": {
    "colab": {},
    "colab_type": "code",
    "id": "AYVkivMY9bZe"
   },
   "outputs": [],
   "source": [
    "with open(\"/content/.kaggle/kaggle.json\", \"w\") as f: json.dump(token, f)"
   ]
  },
  {
   "cell_type": "code",
   "execution_count": 0,
   "metadata": {
    "colab": {},
    "colab_type": "code",
    "id": "73p-Hm-y-SML"
   },
   "outputs": [],
   "source": [
    "!mkdir ~/.kaggle"
   ]
  },
  {
   "cell_type": "code",
   "execution_count": 0,
   "metadata": {
    "colab": {},
    "colab_type": "code",
    "id": "_BOKxiYW-a46"
   },
   "outputs": [],
   "source": [
    "!cp /content/.kaggle/kaggle.json ~/.kaggle/kaggle.json"
   ]
  },
  {
   "cell_type": "code",
   "execution_count": 0,
   "metadata": {
    "colab": {},
    "colab_type": "code",
    "id": "bU27T33w-rrg"
   },
   "outputs": [],
   "source": [
    "!chmod 600 /root/.kaggle/kaggle.json"
   ]
  },
  {
   "cell_type": "code",
   "execution_count": 8,
   "metadata": {
    "colab": {
     "base_uri": "https://localhost:8080/",
     "height": 35
    },
    "colab_type": "code",
    "executionInfo": {
     "elapsed": 30602,
     "status": "ok",
     "timestamp": 1571930895868,
     "user": {
      "displayName": "Mawada Omer Alfaroug Mohammed Ahmed",
      "photoUrl": "",
      "userId": "07301576472949487528"
     },
     "user_tz": -120
    },
    "id": "RVpFSXEA-oLq",
    "outputId": "037d9f3d-2c3c-413c-dce9-cb9bf9ea3827"
   },
   "outputs": [
    {
     "name": "stdout",
     "output_type": "stream",
     "text": [
      "- path is now set to: /content\n"
     ]
    }
   ],
   "source": [
    "!kaggle config set -n path -v /content"
   ]
  },
  {
   "cell_type": "code",
   "execution_count": 9,
   "metadata": {
    "colab": {
     "base_uri": "https://localhost:8080/",
     "height": 191
    },
    "colab_type": "code",
    "executionInfo": {
     "elapsed": 37639,
     "status": "ok",
     "timestamp": 1571930902918,
     "user": {
      "displayName": "Mawada Omer Alfaroug Mohammed Ahmed",
      "photoUrl": "",
      "userId": "07301576472949487528"
     },
     "user_tz": -120
    },
    "id": "pVr7CNyP_eOj",
    "outputId": "0ad0cb5d-dbca-4703-a668-efb3a51a0047"
   },
   "outputs": [
    {
     "name": "stdout",
     "output_type": "stream",
     "text": [
      "Warning: Looks like you're using an outdated API Version, please consider updating (server 1.5.6 / client 1.5.4)\n",
      "Downloading train.csv.zip to /content/competitions/ammi-bootcamp-kaggle-competition\n",
      "\r",
      "  0% 0.00/24.2M [00:00<?, ?B/s]\r",
      " 21% 5.00M/24.2M [00:00<00:00, 27.2MB/s]\n",
      "100% 24.2M/24.2M [00:00<00:00, 80.5MB/s]\n",
      "Downloading Sample_Submission.csv to /content/competitions/ammi-bootcamp-kaggle-competition\n",
      "  0% 0.00/720k [00:00<?, ?B/s]\n",
      "100% 720k/720k [00:00<00:00, 102MB/s]\n",
      "Downloading test.csv.zip to /content/competitions/ammi-bootcamp-kaggle-competition\n",
      " 43% 5.00M/11.6M [00:00<00:00, 24.8MB/s]\n",
      "100% 11.6M/11.6M [00:00<00:00, 46.0MB/s]\n"
     ]
    }
   ],
   "source": [
    "!kaggle competitions download -c ammi-bootcamp-kaggle-competition"
   ]
  },
  {
   "cell_type": "code",
   "execution_count": 10,
   "metadata": {
    "colab": {
     "base_uri": "https://localhost:8080/",
     "height": 35
    },
    "colab_type": "code",
    "executionInfo": {
     "elapsed": 40103,
     "status": "ok",
     "timestamp": 1571930905392,
     "user": {
      "displayName": "Mawada Omer Alfaroug Mohammed Ahmed",
      "photoUrl": "",
      "userId": "07301576472949487528"
     },
     "user_tz": -120
    },
    "id": "NeTJcY7R_vUl",
    "outputId": "307d5dad-ee61-4283-a0d8-8dc2a2462693"
   },
   "outputs": [
    {
     "name": "stdout",
     "output_type": "stream",
     "text": [
      "\u001b[0m\u001b[01;34mcompetitions\u001b[0m/  \u001b[01;34msample_data\u001b[0m/\n"
     ]
    }
   ],
   "source": [
    "%ls "
   ]
  },
  {
   "cell_type": "code",
   "execution_count": 11,
   "metadata": {
    "colab": {
     "base_uri": "https://localhost:8080/",
     "height": 35
    },
    "colab_type": "code",
    "executionInfo": {
     "elapsed": 40097,
     "status": "ok",
     "timestamp": 1571930905396,
     "user": {
      "displayName": "Mawada Omer Alfaroug Mohammed Ahmed",
      "photoUrl": "",
      "userId": "07301576472949487528"
     },
     "user_tz": -120
    },
    "id": "tbxs_j68AQiL",
    "outputId": "26680c3e-746d-41f0-d321-8b7ebb41a381"
   },
   "outputs": [
    {
     "name": "stdout",
     "output_type": "stream",
     "text": [
      "/content/competitions/ammi-bootcamp-kaggle-competition\n"
     ]
    }
   ],
   "source": [
    "%cd competitions/ammi-bootcamp-kaggle-competition/"
   ]
  },
  {
   "cell_type": "code",
   "execution_count": 12,
   "metadata": {
    "colab": {
     "base_uri": "https://localhost:8080/",
     "height": 35
    },
    "colab_type": "code",
    "executionInfo": {
     "elapsed": 42128,
     "status": "ok",
     "timestamp": 1571930907438,
     "user": {
      "displayName": "Mawada Omer Alfaroug Mohammed Ahmed",
      "photoUrl": "",
      "userId": "07301576472949487528"
     },
     "user_tz": -120
    },
    "id": "4iMiaWWYAegd",
    "outputId": "e6b8d401-e950-45d9-d8a3-fa4a99fa10b2"
   },
   "outputs": [
    {
     "name": "stdout",
     "output_type": "stream",
     "text": [
      "Sample_Submission.csv  test.csv.zip  train.csv.zip\n"
     ]
    }
   ],
   "source": [
    "%ls"
   ]
  },
  {
   "cell_type": "code",
   "execution_count": 13,
   "metadata": {
    "colab": {
     "base_uri": "https://localhost:8080/",
     "height": 87
    },
    "colab_type": "code",
    "executionInfo": {
     "elapsed": 46088,
     "status": "ok",
     "timestamp": 1571930911411,
     "user": {
      "displayName": "Mawada Omer Alfaroug Mohammed Ahmed",
      "photoUrl": "",
      "userId": "07301576472949487528"
     },
     "user_tz": -120
    },
    "id": "C7xqcKSIN6C6",
    "outputId": "e9798fe9-210e-4645-d0d8-270ce00b2942"
   },
   "outputs": [
    {
     "name": "stdout",
     "output_type": "stream",
     "text": [
      "Archive:  train.csv.zip\n",
      "  inflating: train.csv               \n",
      "Archive:  test.csv.zip\n",
      "  inflating: test.csv                \n"
     ]
    }
   ],
   "source": [
    "!unzip train.csv.zip\n",
    "!unzip test.csv.zip"
   ]
  },
  {
   "cell_type": "code",
   "execution_count": 0,
   "metadata": {
    "colab": {},
    "colab_type": "code",
    "id": "2Afosd3gOiGC"
   },
   "outputs": [],
   "source": [
    "import pandas as pd"
   ]
  },
  {
   "cell_type": "code",
   "execution_count": 0,
   "metadata": {
    "colab": {},
    "colab_type": "code",
    "id": "tp50ViGuPMRe"
   },
   "outputs": [],
   "source": [
    "train_data = pd.read_csv(\"/content/competitions/ammi-bootcamp-kaggle-competition/train.csv\")"
   ]
  },
  {
   "cell_type": "code",
   "execution_count": 16,
   "metadata": {
    "colab": {
     "base_uri": "https://localhost:8080/",
     "height": 334
    },
    "colab_type": "code",
    "executionInfo": {
     "elapsed": 47525,
     "status": "ok",
     "timestamp": 1571930912873,
     "user": {
      "displayName": "Mawada Omer Alfaroug Mohammed Ahmed",
      "photoUrl": "",
      "userId": "07301576472949487528"
     },
     "user_tz": -120
    },
    "id": "lmgHzzsyQkCe",
    "outputId": "b3038b0a-ff6e-48e1-842d-e4dd14acc64b"
   },
   "outputs": [
    {
     "data": {
      "text/html": [
       "<div>\n",
       "<style scoped>\n",
       "    .dataframe tbody tr th:only-of-type {\n",
       "        vertical-align: middle;\n",
       "    }\n",
       "\n",
       "    .dataframe tbody tr th {\n",
       "        vertical-align: top;\n",
       "    }\n",
       "\n",
       "    .dataframe thead th {\n",
       "        text-align: right;\n",
       "    }\n",
       "</style>\n",
       "<table border=\"1\" class=\"dataframe\">\n",
       "  <thead>\n",
       "    <tr style=\"text-align: right;\">\n",
       "      <th></th>\n",
       "      <th>country</th>\n",
       "      <th>description</th>\n",
       "      <th>designation</th>\n",
       "      <th>points</th>\n",
       "      <th>price</th>\n",
       "      <th>province</th>\n",
       "      <th>region_1</th>\n",
       "      <th>region_2</th>\n",
       "      <th>taster_name</th>\n",
       "      <th>taster_twitter_handle</th>\n",
       "      <th>title</th>\n",
       "      <th>variety</th>\n",
       "      <th>winery</th>\n",
       "      <th>id</th>\n",
       "    </tr>\n",
       "  </thead>\n",
       "  <tbody>\n",
       "    <tr>\n",
       "      <th>0</th>\n",
       "      <td>Portugal</td>\n",
       "      <td>This is a fine rich balanced wine. It has ripe...</td>\n",
       "      <td>Vila Santa Reserva</td>\n",
       "      <td>88.870874</td>\n",
       "      <td>20.0</td>\n",
       "      <td>Alentejano</td>\n",
       "      <td>NaN</td>\n",
       "      <td>NaN</td>\n",
       "      <td>NaN</td>\n",
       "      <td>NaN</td>\n",
       "      <td>NaN</td>\n",
       "      <td>PORTUGUESE RED</td>\n",
       "      <td>J. Portugal Ramos</td>\n",
       "      <td>32027</td>\n",
       "    </tr>\n",
       "    <tr>\n",
       "      <th>1</th>\n",
       "      <td>France</td>\n",
       "      <td>A solid, chunky wine, with a structure that is...</td>\n",
       "      <td>NaN</td>\n",
       "      <td>88.041695</td>\n",
       "      <td>28.0</td>\n",
       "      <td>Bordeaux</td>\n",
       "      <td>Lalande de Pomerol</td>\n",
       "      <td>NaN</td>\n",
       "      <td>NaN</td>\n",
       "      <td>NaN</td>\n",
       "      <td>NaN</td>\n",
       "      <td>BORDEAUX-STYLE RED BLEND</td>\n",
       "      <td>Château Tour Grand Colombier</td>\n",
       "      <td>71079</td>\n",
       "    </tr>\n",
       "    <tr>\n",
       "      <th>2</th>\n",
       "      <td>France</td>\n",
       "      <td>This is powerful and concentrated, with the hi...</td>\n",
       "      <td>NaN</td>\n",
       "      <td>94.085021</td>\n",
       "      <td>130.0</td>\n",
       "      <td>Bordeaux</td>\n",
       "      <td>Saint-Émilion</td>\n",
       "      <td>NaN</td>\n",
       "      <td>NaN</td>\n",
       "      <td>NaN</td>\n",
       "      <td>NaN</td>\n",
       "      <td>BORDEAUX-STYLE RED BLEND</td>\n",
       "      <td>Château Figeac</td>\n",
       "      <td>32440</td>\n",
       "    </tr>\n",
       "  </tbody>\n",
       "</table>\n",
       "</div>"
      ],
      "text/plain": [
       "    country  ...     id\n",
       "0  Portugal  ...  32027\n",
       "1    France  ...  71079\n",
       "2    France  ...  32440\n",
       "\n",
       "[3 rows x 14 columns]"
      ]
     },
     "execution_count": 16,
     "metadata": {
      "tags": []
     },
     "output_type": "execute_result"
    }
   ],
   "source": [
    "train_data.head(3)"
   ]
  },
  {
   "cell_type": "code",
   "execution_count": 17,
   "metadata": {
    "colab": {
     "base_uri": "https://localhost:8080/",
     "height": 35
    },
    "colab_type": "code",
    "executionInfo": {
     "elapsed": 47512,
     "status": "ok",
     "timestamp": 1571930912874,
     "user": {
      "displayName": "Mawada Omer Alfaroug Mohammed Ahmed",
      "photoUrl": "",
      "userId": "07301576472949487528"
     },
     "user_tz": -120
    },
    "id": "5xFoH6FpQ0f2",
    "outputId": "ea7615ec-48bd-4b1a-c0df-6a66e12df0fa"
   },
   "outputs": [
    {
     "data": {
      "text/plain": [
       "37931"
      ]
     },
     "execution_count": 17,
     "metadata": {
      "tags": []
     },
     "output_type": "execute_result"
    }
   ],
   "source": [
    "len(train_data.designation.value_counts())"
   ]
  },
  {
   "cell_type": "code",
   "execution_count": 0,
   "metadata": {
    "colab": {},
    "colab_type": "code",
    "id": "VEnSmYyNSsht"
   },
   "outputs": [],
   "source": [
    "test_data = pd.read_csv(\"/content/competitions/ammi-bootcamp-kaggle-competition/test.csv\")"
   ]
  },
  {
   "cell_type": "code",
   "execution_count": 19,
   "metadata": {
    "colab": {
     "base_uri": "https://localhost:8080/",
     "height": 1000
    },
    "colab_type": "code",
    "executionInfo": {
     "elapsed": 48132,
     "status": "ok",
     "timestamp": 1571930913525,
     "user": {
      "displayName": "Mawada Omer Alfaroug Mohammed Ahmed",
      "photoUrl": "",
      "userId": "07301576472949487528"
     },
     "user_tz": -120
    },
    "id": "UwzF_6T0XT0O",
    "outputId": "7c1e8c7c-125c-4125-dfe4-2961b7ddc486"
   },
   "outputs": [
    {
     "data": {
      "text/html": [
       "<div>\n",
       "<style scoped>\n",
       "    .dataframe tbody tr th:only-of-type {\n",
       "        vertical-align: middle;\n",
       "    }\n",
       "\n",
       "    .dataframe tbody tr th {\n",
       "        vertical-align: top;\n",
       "    }\n",
       "\n",
       "    .dataframe thead th {\n",
       "        text-align: right;\n",
       "    }\n",
       "</style>\n",
       "<table border=\"1\" class=\"dataframe\">\n",
       "  <thead>\n",
       "    <tr style=\"text-align: right;\">\n",
       "      <th></th>\n",
       "      <th>index</th>\n",
       "      <th>country</th>\n",
       "      <th>description</th>\n",
       "      <th>designation</th>\n",
       "      <th>points</th>\n",
       "      <th>price</th>\n",
       "      <th>province</th>\n",
       "      <th>region_1</th>\n",
       "      <th>region_2</th>\n",
       "      <th>taster_name</th>\n",
       "      <th>taster_twitter_handle</th>\n",
       "      <th>title</th>\n",
       "      <th>variety</th>\n",
       "      <th>winery</th>\n",
       "      <th>id</th>\n",
       "    </tr>\n",
       "  </thead>\n",
       "  <tbody>\n",
       "    <tr>\n",
       "      <th>0</th>\n",
       "      <td>41855</td>\n",
       "      <td>US</td>\n",
       "      <td>Sweet new oak stands out, giving this Cabernet...</td>\n",
       "      <td>3D</td>\n",
       "      <td>95.036469</td>\n",
       "      <td>NaN</td>\n",
       "      <td>California</td>\n",
       "      <td>St. Helena</td>\n",
       "      <td>Napa</td>\n",
       "      <td>NaN</td>\n",
       "      <td>NaN</td>\n",
       "      <td>Salvestrin 2007 3D Cabernet Sauvignon (St. Hel...</td>\n",
       "      <td>CABERNET SAUVIGNON</td>\n",
       "      <td>Salvestrin</td>\n",
       "      <td>0</td>\n",
       "    </tr>\n",
       "    <tr>\n",
       "      <th>1</th>\n",
       "      <td>10328</td>\n",
       "      <td>France</td>\n",
       "      <td>Charming raspberry aromas intertwine with scen...</td>\n",
       "      <td>Heluicum</td>\n",
       "      <td>90.966405</td>\n",
       "      <td>NaN</td>\n",
       "      <td>Rhône Valley</td>\n",
       "      <td>Collines Rhôdaniennes</td>\n",
       "      <td>NaN</td>\n",
       "      <td>NaN</td>\n",
       "      <td>NaN</td>\n",
       "      <td>NaN</td>\n",
       "      <td>SYRAH</td>\n",
       "      <td>Les Vins de Vienne</td>\n",
       "      <td>1</td>\n",
       "    </tr>\n",
       "    <tr>\n",
       "      <th>2</th>\n",
       "      <td>60094</td>\n",
       "      <td>US</td>\n",
       "      <td>Ripe blackberry, leather and soy show on the n...</td>\n",
       "      <td>Estate</td>\n",
       "      <td>88.964358</td>\n",
       "      <td>NaN</td>\n",
       "      <td>California</td>\n",
       "      <td>Santa Ynez Valley</td>\n",
       "      <td>Central Coast</td>\n",
       "      <td>Matt Kettmann</td>\n",
       "      <td>@mattkettmann</td>\n",
       "      <td>Brave &amp; Maiden 2013 Estate Cabernet Franc (San...</td>\n",
       "      <td>CABERNET FRANC</td>\n",
       "      <td>Brave &amp; Maiden</td>\n",
       "      <td>2</td>\n",
       "    </tr>\n",
       "    <tr>\n",
       "      <th>3</th>\n",
       "      <td>48333</td>\n",
       "      <td>US</td>\n",
       "      <td>White flowers and wild anise give this a crisp...</td>\n",
       "      <td>NaN</td>\n",
       "      <td>89.960356</td>\n",
       "      <td>NaN</td>\n",
       "      <td>California</td>\n",
       "      <td>Sonoma Coast</td>\n",
       "      <td>Sonoma</td>\n",
       "      <td>Virginie Boone</td>\n",
       "      <td>@vboone</td>\n",
       "      <td>Les Voleurs 2013 Chardonnay (Sonoma Coast)</td>\n",
       "      <td>CHARDONNAY</td>\n",
       "      <td>Les Voleurs</td>\n",
       "      <td>3</td>\n",
       "    </tr>\n",
       "    <tr>\n",
       "      <th>4</th>\n",
       "      <td>14498</td>\n",
       "      <td>US</td>\n",
       "      <td>Pinot Gris has been making inroads in Washingt...</td>\n",
       "      <td>NaN</td>\n",
       "      <td>88.075501</td>\n",
       "      <td>NaN</td>\n",
       "      <td>Washington</td>\n",
       "      <td>Columbia Valley (WA)</td>\n",
       "      <td>Columbia Valley</td>\n",
       "      <td>Sean P. Sullivan</td>\n",
       "      <td>@wawinereport</td>\n",
       "      <td>Chateau Ste. Michelle 2015 Pinot Gris (Columbi...</td>\n",
       "      <td>PINOT GRIS</td>\n",
       "      <td>Chateau Ste. Michelle</td>\n",
       "      <td>4</td>\n",
       "    </tr>\n",
       "    <tr>\n",
       "      <th>5</th>\n",
       "      <td>91222</td>\n",
       "      <td>US</td>\n",
       "      <td>An easy, gentle red wine, full-bodied and spic...</td>\n",
       "      <td>NaN</td>\n",
       "      <td>86.118662</td>\n",
       "      <td>NaN</td>\n",
       "      <td>California</td>\n",
       "      <td>Russian River Valley</td>\n",
       "      <td>Sonoma</td>\n",
       "      <td>NaN</td>\n",
       "      <td>NaN</td>\n",
       "      <td>Bearboat 2008 Syrah (Russian River Valley)</td>\n",
       "      <td>SYRAH</td>\n",
       "      <td>Bearboat</td>\n",
       "      <td>5</td>\n",
       "    </tr>\n",
       "    <tr>\n",
       "      <th>6</th>\n",
       "      <td>126792</td>\n",
       "      <td>Argentina</td>\n",
       "      <td>Red berry fruit with touches of vanilla and sp...</td>\n",
       "      <td>Saurus Patagonia</td>\n",
       "      <td>86.054011</td>\n",
       "      <td>NaN</td>\n",
       "      <td>Other</td>\n",
       "      <td>Neuquén</td>\n",
       "      <td>NaN</td>\n",
       "      <td>NaN</td>\n",
       "      <td>NaN</td>\n",
       "      <td>NaN</td>\n",
       "      <td>PINOT NOIR</td>\n",
       "      <td>Familia Schroeder</td>\n",
       "      <td>6</td>\n",
       "    </tr>\n",
       "    <tr>\n",
       "      <th>7</th>\n",
       "      <td>50588</td>\n",
       "      <td>US</td>\n",
       "      <td>Tart, dry and simple, this Cab will happily wa...</td>\n",
       "      <td>NaN</td>\n",
       "      <td>82.964697</td>\n",
       "      <td>NaN</td>\n",
       "      <td>California</td>\n",
       "      <td>California</td>\n",
       "      <td>California Other</td>\n",
       "      <td>NaN</td>\n",
       "      <td>NaN</td>\n",
       "      <td>Montevina 2006 Cabernet Sauvignon (California)</td>\n",
       "      <td>CABERNET SAUVIGNON</td>\n",
       "      <td>Montevina</td>\n",
       "      <td>7</td>\n",
       "    </tr>\n",
       "    <tr>\n",
       "      <th>8</th>\n",
       "      <td>145901</td>\n",
       "      <td>Italy</td>\n",
       "      <td>A gorgeous and opulent nose with honey, vanill...</td>\n",
       "      <td>NaN</td>\n",
       "      <td>88.950953</td>\n",
       "      <td>NaN</td>\n",
       "      <td>Northeastern Italy</td>\n",
       "      <td>Trentino</td>\n",
       "      <td>NaN</td>\n",
       "      <td>NaN</td>\n",
       "      <td>NaN</td>\n",
       "      <td>NaN</td>\n",
       "      <td>PINOT GRIGIO</td>\n",
       "      <td>Bollini</td>\n",
       "      <td>8</td>\n",
       "    </tr>\n",
       "    <tr>\n",
       "      <th>9</th>\n",
       "      <td>124649</td>\n",
       "      <td>Italy</td>\n",
       "      <td>Pressed violet, baked plum, baking spice and c...</td>\n",
       "      <td>NaN</td>\n",
       "      <td>90.167277</td>\n",
       "      <td>NaN</td>\n",
       "      <td>Veneto</td>\n",
       "      <td>Amarone della Valpolicella Classico</td>\n",
       "      <td>NaN</td>\n",
       "      <td>Kerin O’Keefe</td>\n",
       "      <td>@kerinokeefe</td>\n",
       "      <td>David Sterza 2011  Amarone della Valpolicella ...</td>\n",
       "      <td>RED BLEND</td>\n",
       "      <td>David Sterza</td>\n",
       "      <td>9</td>\n",
       "    </tr>\n",
       "  </tbody>\n",
       "</table>\n",
       "</div>"
      ],
      "text/plain": [
       "    index    country  ...                 winery id\n",
       "0   41855         US  ...             Salvestrin  0\n",
       "1   10328     France  ...     Les Vins de Vienne  1\n",
       "2   60094         US  ...         Brave & Maiden  2\n",
       "3   48333         US  ...            Les Voleurs  3\n",
       "4   14498         US  ...  Chateau Ste. Michelle  4\n",
       "5   91222         US  ...               Bearboat  5\n",
       "6  126792  Argentina  ...      Familia Schroeder  6\n",
       "7   50588         US  ...              Montevina  7\n",
       "8  145901      Italy  ...                Bollini  8\n",
       "9  124649      Italy  ...           David Sterza  9\n",
       "\n",
       "[10 rows x 15 columns]"
      ]
     },
     "execution_count": 19,
     "metadata": {
      "tags": []
     },
     "output_type": "execute_result"
    }
   ],
   "source": [
    "test_data.head(10)"
   ]
  },
  {
   "cell_type": "code",
   "execution_count": 20,
   "metadata": {
    "colab": {
     "base_uri": "https://localhost:8080/",
     "height": 277
    },
    "colab_type": "code",
    "executionInfo": {
     "elapsed": 48115,
     "status": "ok",
     "timestamp": 1571930913527,
     "user": {
      "displayName": "Mawada Omer Alfaroug Mohammed Ahmed",
      "photoUrl": "",
      "userId": "07301576472949487528"
     },
     "user_tz": -120
    },
    "id": "Vesx2JbuXY5b",
    "outputId": "e55f44da-5dd9-4712-f7d3-48bb1bea56d8"
   },
   "outputs": [
    {
     "data": {
      "text/plain": [
       "country                      47\n",
       "description                   0\n",
       "designation               52266\n",
       "points                        0\n",
       "price                         0\n",
       "province                     47\n",
       "region_1                  28534\n",
       "region_2                  99606\n",
       "taster_name              109491\n",
       "taster_twitter_handle    112810\n",
       "title                     92811\n",
       "variety                       1\n",
       "winery                        0\n",
       "id                            0\n",
       "dtype: int64"
      ]
     },
     "execution_count": 20,
     "metadata": {
      "tags": []
     },
     "output_type": "execute_result"
    }
   ],
   "source": [
    "train_data.isnull().sum()"
   ]
  },
  {
   "cell_type": "code",
   "execution_count": 21,
   "metadata": {
    "colab": {
     "base_uri": "https://localhost:8080/",
     "height": 225
    },
    "colab_type": "code",
    "executionInfo": {
     "elapsed": 48098,
     "status": "ok",
     "timestamp": 1571930913528,
     "user": {
      "displayName": "Mawada Omer Alfaroug Mohammed Ahmed",
      "photoUrl": "",
      "userId": "07301576472949487528"
     },
     "user_tz": -120
    },
    "id": "MsFaetwijZZ-",
    "outputId": "c631994d-022a-460d-94f5-510c0fa4d1f0"
   },
   "outputs": [
    {
     "data": {
      "text/plain": [
       "California         54692\n",
       "Washington         12404\n",
       "Tuscany             7463\n",
       "Oregon              6741\n",
       "Northern Spain      5834\n",
       "                   ...  \n",
       "South Styria           1\n",
       "Mittelrhein            1\n",
       "Sithonia               1\n",
       "Dalmatian Coast        1\n",
       "Cape Peninsula         1\n",
       "Name: province, Length: 468, dtype: int64"
      ]
     },
     "execution_count": 21,
     "metadata": {
      "tags": []
     },
     "output_type": "execute_result"
    }
   ],
   "source": [
    "train_data['province'].value_counts()"
   ]
  },
  {
   "cell_type": "code",
   "execution_count": 22,
   "metadata": {
    "colab": {
     "base_uri": "https://localhost:8080/",
     "height": 277
    },
    "colab_type": "code",
    "executionInfo": {
     "elapsed": 48535,
     "status": "ok",
     "timestamp": 1571930913981,
     "user": {
      "displayName": "Mawada Omer Alfaroug Mohammed Ahmed",
      "photoUrl": "",
      "userId": "07301576472949487528"
     },
     "user_tz": -120
    },
    "id": "xbqkcGU3nYOM",
    "outputId": "9857d427-0ced-4e0b-966a-7413ce504240"
   },
   "outputs": [
    {
     "data": {
      "text/plain": [
       "country                      47\n",
       "description                   0\n",
       "designation               52266\n",
       "points                        0\n",
       "price                         0\n",
       "province                     47\n",
       "region_1                  28534\n",
       "region_2                  99606\n",
       "taster_name              109491\n",
       "taster_twitter_handle    112810\n",
       "title                     92811\n",
       "variety                       1\n",
       "winery                        0\n",
       "id                            0\n",
       "dtype: int64"
      ]
     },
     "execution_count": 22,
     "metadata": {
      "tags": []
     },
     "output_type": "execute_result"
    }
   ],
   "source": [
    "train_data.isnull().sum()"
   ]
  },
  {
   "cell_type": "code",
   "execution_count": 0,
   "metadata": {
    "colab": {},
    "colab_type": "code",
    "id": "yDQDpamVhH-r"
   },
   "outputs": [],
   "source": [
    "train_data[\"country\"].fillna('new_country', inplace=True)\n",
    "train_data[\"province\"].fillna('new_province', inplace=True)\n",
    "train_data[\"variety\"].fillna('new_variety', inplace=True)\n",
    "#train_data[\"winery\"].fillna('new_winery', inplace=True)\n",
    "\n",
    "test_data[\"country\"].fillna('new_country', inplace=True)\n",
    "test_data[\"province\"].fillna('new_province', inplace=True)\n",
    "test_data[\"variety\"].fillna('new_variety', inplace=True)\n",
    "#test_data[\"winery\"].fillna('new_winery', inplace=True)"
   ]
  },
  {
   "cell_type": "code",
   "execution_count": 0,
   "metadata": {
    "colab": {},
    "colab_type": "code",
    "id": "CPHNETdZpCaj"
   },
   "outputs": [],
   "source": [
    "country_train = train_data['country'].value_counts()\n",
    "country_test = test_data['country'].value_counts()\n",
    "\n",
    "province_train = train_data['province'].value_counts()\n",
    "province_test = test_data['province'].value_counts()\n",
    "\n",
    "variety_train = train_data['variety'].value_counts()\n",
    "variety_test = test_data['variety'].value_counts()\n",
    "\n",
    "winery_train = train_data['winery'].value_counts()\n",
    "winery_test = test_data['winery'].value_counts()\n"
   ]
  },
  {
   "cell_type": "code",
   "execution_count": 0,
   "metadata": {
    "colab": {},
    "colab_type": "code",
    "id": "8qmxwdJRqSdX"
   },
   "outputs": [],
   "source": [
    "country_list = list(set(country_train.index.tolist() + country_test.index.tolist()))\n",
    "province_list = list(set(province_train.index.tolist() + province_test.index.tolist()))\n",
    "variety_list = list(set(variety_train.index.tolist() + variety_test.index.tolist()))\n",
    "winery_list = list(set(winery_train.index.tolist() + winery_test.index.tolist()))"
   ]
  },
  {
   "cell_type": "code",
   "execution_count": 0,
   "metadata": {
    "colab": {},
    "colab_type": "code",
    "id": "K-Nk3ZMssXBr"
   },
   "outputs": [],
   "source": [
    "from sklearn.preprocessing import LabelEncoder"
   ]
  },
  {
   "cell_type": "code",
   "execution_count": 0,
   "metadata": {
    "colab": {},
    "colab_type": "code",
    "id": "Bx9wygnCcPMz"
   },
   "outputs": [],
   "source": [
    "encoder_country = LabelEncoder()\n",
    "encoder_province = LabelEncoder()\n",
    "encoder_variety = LabelEncoder()\n",
    "encoder_winery = LabelEncoder()"
   ]
  },
  {
   "cell_type": "code",
   "execution_count": 28,
   "metadata": {
    "colab": {
     "base_uri": "https://localhost:8080/",
     "height": 35
    },
    "colab_type": "code",
    "executionInfo": {
     "elapsed": 48878,
     "status": "ok",
     "timestamp": 1571930914418,
     "user": {
      "displayName": "Mawada Omer Alfaroug Mohammed Ahmed",
      "photoUrl": "",
      "userId": "07301576472949487528"
     },
     "user_tz": -120
    },
    "id": "MPaJcm-sczDc",
    "outputId": "3b634a59-96fc-4943-d2cc-8e7c23b14b87"
   },
   "outputs": [
    {
     "data": {
      "text/plain": [
       "LabelEncoder()"
      ]
     },
     "execution_count": 28,
     "metadata": {
      "tags": []
     },
     "output_type": "execute_result"
    }
   ],
   "source": [
    "encoder_country.fit(country_list)\n",
    "encoder_province.fit(province_list)\n",
    "encoder_variety.fit(variety_list)\n",
    "encoder_winery.fit(winery_list)"
   ]
  },
  {
   "cell_type": "code",
   "execution_count": 29,
   "metadata": {
    "colab": {
     "base_uri": "https://localhost:8080/",
     "height": 35
    },
    "colab_type": "code",
    "executionInfo": {
     "elapsed": 48859,
     "status": "ok",
     "timestamp": 1571930914418,
     "user": {
      "displayName": "Mawada Omer Alfaroug Mohammed Ahmed",
      "photoUrl": "",
      "userId": "07301576472949487528"
     },
     "user_tz": -120
    },
    "id": "xLHv_VjndP6g",
    "outputId": "8db6d407-f598-4687-a59a-8d65ef1e1da9"
   },
   "outputs": [
    {
     "name": "stdout",
     "output_type": "stream",
     "text": [
      "['Santa Catarina', 'Messinia', 'Aconcagua Costa']\n"
     ]
    }
   ],
   "source": [
    "print(province_list[:3])"
   ]
  },
  {
   "cell_type": "code",
   "execution_count": 30,
   "metadata": {
    "colab": {
     "base_uri": "https://localhost:8080/",
     "height": 485
    },
    "colab_type": "code",
    "executionInfo": {
     "elapsed": 48826,
     "status": "ok",
     "timestamp": 1571930914419,
     "user": {
      "displayName": "Mawada Omer Alfaroug Mohammed Ahmed",
      "photoUrl": "",
      "userId": "07301576472949487528"
     },
     "user_tz": -120
    },
    "id": "2T_5-ga2dYfM",
    "outputId": "0f7c592f-0112-4163-912d-e12fb8159c09"
   },
   "outputs": [
    {
     "name": "stdout",
     "output_type": "stream",
     "text": [
      "[366 242   1 286 314 411 363 302  52 171 306 234 319 232 446 385  75 424\n",
      " 295 116 255  18 207 174 193 221  15  45 108 251 285 245  98 263 382 332\n",
      " 426 305 271  73 248 224 477  29  43 384 362 127  72 109 342  81 203 449\n",
      " 208 443 428 112 144 106  48 155 284 120 417 480 458 102 186 396 395 421\n",
      " 348  71 320 141   6 422  35 370  36 114 230 351 269 464 165 168 206  24\n",
      " 379 291 294 220 408 191 420 409 275  14 429 130 392 403 238 310 133 205\n",
      "  61 183  41 427 156 235  92  90 136 435 212 148 375   5 307 150 454 158\n",
      "  19 226 432  20 327 347 239 316 431  10 377   2  53 119  88 328 393 287\n",
      "  96  82  27 273 344 451 146  86 469 253 124 335 122 129 259 163 214  65\n",
      " 468 152 162 118 425 195 219 401  77  22 334  68 308 281 137  60 187 418\n",
      " 324 110 143 355 153   3 322 346  40 125 296  62 211 448 298 149 470 437\n",
      " 459  93 192  78 478 267 138 483 312 274 473 405 262 157  57 233  21 354\n",
      " 139 266 415 175 145 215 299 452 445  32 345 179  66 115 467 243 442 339\n",
      " 241 301 479 390  34 276 423 404 279 278 378 254 180 353  91 460 105 173\n",
      " 213 107  95 357 481 400 474 453 407 455 325 326 272 250 323  64  51 410\n",
      " 161 289 444 264 414 160 461  12 413 225 476 374   8 135 288 406 471  94\n",
      " 131 277 475 365 134 430 380 128 194  67 169 196 181 223 358  38  23 231\n",
      " 132 247  85 352 303 103 482 371 227 121 167 450 367 117 441 228 164 204\n",
      " 154 100 309 202 434 201 252 343  55 123 104  42 463 466 200 283 394   4\n",
      " 151  89  58 337 397 101  25 199 465 261 229 297 172 300  44  76  54 369\n",
      " 386 218  28  30 111 315 472 209 330  37 376  99  69 217 246 338  49 142\n",
      " 440 258 317 321 402 438 236  74 364  11   9 126 313 282  97 311  31 329\n",
      " 372 147  87 383  84 237  16   0 190 159 176  80 184 356 399 293 389 290\n",
      " 240 292 177 198 265  63 336 197 182 419 340   7 185 170 416 447 387 210\n",
      " 304 113 257 462 381 331 349 361  47  39 333  17 189 368  26 433 412 244\n",
      "  56 391 260 256 178  70 216 360  83  33 439  13 166  59 249 398  50 350\n",
      "  79 388 188 436 359 341 318 268 456  46 270 222 373 280 140 457]\n"
     ]
    }
   ],
   "source": [
    "province_indexes = encoder_province.transform(province_list)\n",
    "print(province_indexes)"
   ]
  },
  {
   "cell_type": "code",
   "execution_count": 0,
   "metadata": {
    "colab": {},
    "colab_type": "code",
    "id": "-zTUUJTrezwc"
   },
   "outputs": [],
   "source": [
    "train_data[[\"country\"]] = train_data[['country']].apply(encoder_country.transform)\n",
    "train_data[[\"province\"]] = train_data[['province']].apply(encoder_province.transform)\n",
    "train_data[[\"variety\"]] = train_data[['variety']].apply(encoder_variety.transform)\n",
    "train_data[[\"winery\"]] = train_data[['winery']].apply(encoder_winery.transform)\n",
    "\n",
    "\n",
    "test_data[[\"country\"]] = test_data[['country']].apply(encoder_country.transform)\n",
    "test_data[[\"province\"]] = test_data[['province']].apply(encoder_province.transform)\n",
    "test_data[[\"variety\"]] = test_data[['variety']].apply(encoder_variety.transform)\n",
    "test_data[[\"winery\"]] = test_data[['winery']].apply(encoder_winery.transform)\n"
   ]
  },
  {
   "cell_type": "markdown",
   "metadata": {
    "colab_type": "text",
    "id": "EDuZ2HUDsZmL"
   },
   "source": []
  },
  {
   "cell_type": "code",
   "execution_count": 0,
   "metadata": {
    "colab": {},
    "colab_type": "code",
    "id": "I7mkFkFysaRP"
   },
   "outputs": [],
   "source": [
    "from tensorflow.keras.preprocessing.text import Tokenizer\n",
    "from tensorflow.keras.preprocessing.sequence import pad_sequences"
   ]
  },
  {
   "cell_type": "code",
   "execution_count": 0,
   "metadata": {
    "colab": {},
    "colab_type": "code",
    "id": "qG-HKIENt-WJ"
   },
   "outputs": [],
   "source": [
    "max_length = 64\n",
    "vocabulary_size = 10000"
   ]
  },
  {
   "cell_type": "code",
   "execution_count": 0,
   "metadata": {
    "colab": {},
    "colab_type": "code",
    "id": "2z2YdMbSseXo"
   },
   "outputs": [],
   "source": [
    "tokenizer = Tokenizer(num_words=vocabulary_size)\n",
    "tokenizer.fit_on_texts(train_data[\"description\"])\n",
    "\n",
    "train_descriptions = pad_sequences(tokenizer.texts_to_sequences(train_data[\"description\"]), maxlen=max_length)\n",
    "\n",
    "test_descriptions = pad_sequences(tokenizer.texts_to_sequences(test_data[\"description\"]), maxlen=max_length)\n"
   ]
  },
  {
   "cell_type": "code",
   "execution_count": 0,
   "metadata": {
    "colab": {},
    "colab_type": "code",
    "id": "Te-EH8z7grym"
   },
   "outputs": [],
   "source": [
    "import tensorflow as tf\n",
    "import tensorflow.keras as keras\n",
    "import tensorflow.keras.layers as layers"
   ]
  },
  {
   "cell_type": "code",
   "execution_count": 36,
   "metadata": {
    "colab": {
     "base_uri": "https://localhost:8080/",
     "height": 297
    },
    "colab_type": "code",
    "executionInfo": {
     "elapsed": 69832,
     "status": "ok",
     "timestamp": 1571930935479,
     "user": {
      "displayName": "Mawada Omer Alfaroug Mohammed Ahmed",
      "photoUrl": "",
      "userId": "07301576472949487528"
     },
     "user_tz": -120
    },
    "id": "z8btRrFbhynG",
    "outputId": "81bc7459-5fcb-40a5-c424-df0080be4178"
   },
   "outputs": [
    {
     "name": "stdout",
     "output_type": "stream",
     "text": [
      "WARNING:tensorflow:From /usr/local/lib/python3.6/dist-packages/tensorflow_core/python/keras/initializers.py:119: calling RandomUniform.__init__ (from tensorflow.python.ops.init_ops) with dtype is deprecated and will be removed in a future version.\n",
      "Instructions for updating:\n",
      "Call initializer instance with the dtype argument instead of passing it to the constructor\n",
      "WARNING:tensorflow:From /usr/local/lib/python3.6/dist-packages/tensorflow_core/python/ops/resource_variable_ops.py:1630: calling BaseResourceVariable.__init__ (from tensorflow.python.ops.resource_variable_ops) with constraint is deprecated and will be removed in a future version.\n",
      "Instructions for updating:\n",
      "If using Keras pass *_constraint arguments to layers.\n",
      "WARNING:tensorflow:From /usr/local/lib/python3.6/dist-packages/tensorflow_core/python/ops/init_ops.py:97: calling GlorotUniform.__init__ (from tensorflow.python.ops.init_ops) with dtype is deprecated and will be removed in a future version.\n",
      "Instructions for updating:\n",
      "Call initializer instance with the dtype argument instead of passing it to the constructor\n",
      "WARNING:tensorflow:From /usr/local/lib/python3.6/dist-packages/tensorflow_core/python/ops/init_ops.py:97: calling Orthogonal.__init__ (from tensorflow.python.ops.init_ops) with dtype is deprecated and will be removed in a future version.\n",
      "Instructions for updating:\n",
      "Call initializer instance with the dtype argument instead of passing it to the constructor\n",
      "WARNING:tensorflow:From /usr/local/lib/python3.6/dist-packages/tensorflow_core/python/ops/init_ops.py:97: calling Zeros.__init__ (from tensorflow.python.ops.init_ops) with dtype is deprecated and will be removed in a future version.\n",
      "Instructions for updating:\n",
      "Call initializer instance with the dtype argument instead of passing it to the constructor\n"
     ]
    }
   ],
   "source": [
    "country_model = keras.Sequential()\n",
    "country_model.add(layers.Embedding(len(encoder_country.classes_), 32, input_length=1))\n",
    "country_model.add(layers.Reshape((32,)))\n",
    "\n",
    "province_model = keras.Sequential()\n",
    "province_model.add(layers.Embedding(len(encoder_province.classes_), 32, input_length=1))\n",
    "province_model.add(layers.Reshape((32,)))\n",
    "\n",
    "variety_model = keras.Sequential()\n",
    "variety_model.add(layers.Embedding(len(encoder_variety.classes_), 32, input_length=1))\n",
    "variety_model.add(layers.Reshape((32,)))\n",
    "\n",
    "winery_model = keras.Sequential()\n",
    "winery_model.add(layers.Embedding(len(encoder_winery.classes_), 32, input_length=1))\n",
    "winery_model.add(layers.Reshape((32,)))\n",
    "\n",
    "description_model = keras.Sequential()\n",
    "description_model.add(layers.Embedding(vocabulary_size, 64, input_length=max_length))\n",
    "description_model.add(layers.Bidirectional(layers.LSTM(32)))\n",
    "description_model.add(layers.Reshape((64,)))\n",
    "\n",
    "points_model = keras.Sequential()\n",
    "points_model.add(layers.Dense(32, activation=\"relu\", input_shape=(1,)))\n",
    "\n",
    "\n",
    "merged = layers.Concatenate()([country_model.output, province_model.output,  variety_model.output, winery_model.output, points_model.output, description_model.output])\n",
    "\n",
    "x = layers.Dense(512, activation=\"relu\")(merged)\n",
    "x = layers.Dense(100, activation=\"relu\")(x)\n",
    "x = layers.Dense(1)(x)\n",
    "\n",
    "model = keras.Model(inputs=[country_model.inputs, province_model.inputs, variety_model.inputs, winery_model.inputs, points_model.inputs, description_model.inputs], outputs=x)"
   ]
  },
  {
   "cell_type": "code",
   "execution_count": 0,
   "metadata": {
    "colab": {},
    "colab_type": "code",
    "id": "Cuai19FsxRT2"
   },
   "outputs": [],
   "source": []
  },
  {
   "cell_type": "code",
   "execution_count": 37,
   "metadata": {
    "colab": {
     "base_uri": "https://localhost:8080/",
     "height": 1000
    },
    "colab_type": "code",
    "executionInfo": {
     "elapsed": 70122,
     "status": "ok",
     "timestamp": 1571930935799,
     "user": {
      "displayName": "Mawada Omer Alfaroug Mohammed Ahmed",
      "photoUrl": "",
      "userId": "07301576472949487528"
     },
     "user_tz": -120
    },
    "id": "msuFNw-1jKkB",
    "outputId": "ebf9559f-f2f7-4939-a371-369fcbe0afdb"
   },
   "outputs": [
    {
     "name": "stdout",
     "output_type": "stream",
     "text": [
      "Model: \"model\"\n",
      "__________________________________________________________________________________________________\n",
      "Layer (type)                    Output Shape         Param #     Connected to                     \n",
      "==================================================================================================\n",
      "embedding_4_input (InputLayer)  [(None, 64)]         0                                            \n",
      "__________________________________________________________________________________________________\n",
      "embedding_input (InputLayer)    [(None, 1)]          0                                            \n",
      "__________________________________________________________________________________________________\n",
      "embedding_1_input (InputLayer)  [(None, 1)]          0                                            \n",
      "__________________________________________________________________________________________________\n",
      "embedding_2_input (InputLayer)  [(None, 1)]          0                                            \n",
      "__________________________________________________________________________________________________\n",
      "embedding_3_input (InputLayer)  [(None, 1)]          0                                            \n",
      "__________________________________________________________________________________________________\n",
      "embedding_4 (Embedding)         (None, 64, 64)       640000      embedding_4_input[0][0]          \n",
      "__________________________________________________________________________________________________\n",
      "embedding (Embedding)           (None, 1, 32)        1568        embedding_input[0][0]            \n",
      "__________________________________________________________________________________________________\n",
      "embedding_1 (Embedding)         (None, 1, 32)        15488       embedding_1_input[0][0]          \n",
      "__________________________________________________________________________________________________\n",
      "embedding_2 (Embedding)         (None, 1, 32)        23872       embedding_2_input[0][0]          \n",
      "__________________________________________________________________________________________________\n",
      "embedding_3 (Embedding)         (None, 1, 32)        581056      embedding_3_input[0][0]          \n",
      "__________________________________________________________________________________________________\n",
      "dense_input (InputLayer)        [(None, 1)]          0                                            \n",
      "__________________________________________________________________________________________________\n",
      "bidirectional (Bidirectional)   (None, 64)           24832       embedding_4[0][0]                \n",
      "__________________________________________________________________________________________________\n",
      "reshape (Reshape)               (None, 32)           0           embedding[0][0]                  \n",
      "__________________________________________________________________________________________________\n",
      "reshape_1 (Reshape)             (None, 32)           0           embedding_1[0][0]                \n",
      "__________________________________________________________________________________________________\n",
      "reshape_2 (Reshape)             (None, 32)           0           embedding_2[0][0]                \n",
      "__________________________________________________________________________________________________\n",
      "reshape_3 (Reshape)             (None, 32)           0           embedding_3[0][0]                \n",
      "__________________________________________________________________________________________________\n",
      "dense (Dense)                   (None, 32)           64          dense_input[0][0]                \n",
      "__________________________________________________________________________________________________\n",
      "reshape_4 (Reshape)             (None, 64)           0           bidirectional[0][0]              \n",
      "__________________________________________________________________________________________________\n",
      "concatenate (Concatenate)       (None, 224)          0           reshape[0][0]                    \n",
      "                                                                 reshape_1[0][0]                  \n",
      "                                                                 reshape_2[0][0]                  \n",
      "                                                                 reshape_3[0][0]                  \n",
      "                                                                 dense[0][0]                      \n",
      "                                                                 reshape_4[0][0]                  \n",
      "__________________________________________________________________________________________________\n",
      "dense_1 (Dense)                 (None, 512)          115200      concatenate[0][0]                \n",
      "__________________________________________________________________________________________________\n",
      "dense_2 (Dense)                 (None, 100)          51300       dense_1[0][0]                    \n",
      "__________________________________________________________________________________________________\n",
      "dense_3 (Dense)                 (None, 1)            101         dense_2[0][0]                    \n",
      "==================================================================================================\n",
      "Total params: 1,453,481\n",
      "Trainable params: 1,453,481\n",
      "Non-trainable params: 0\n",
      "__________________________________________________________________________________________________\n"
     ]
    }
   ],
   "source": [
    "model.summary()"
   ]
  },
  {
   "cell_type": "code",
   "execution_count": 0,
   "metadata": {
    "colab": {},
    "colab_type": "code",
    "id": "CpE3EeLGjrGt"
   },
   "outputs": [],
   "source": [
    "X = train_data[['country', 'province', 'variety', 'winery', \"points\"]].values\n",
    "y = train_data[['price']].values"
   ]
  },
  {
   "cell_type": "code",
   "execution_count": 0,
   "metadata": {
    "colab": {},
    "colab_type": "code",
    "id": "rl1j6qpGj-V9"
   },
   "outputs": [],
   "source": [
    "from sklearn.model_selection import train_test_split"
   ]
  },
  {
   "cell_type": "code",
   "execution_count": 0,
   "metadata": {
    "colab": {},
    "colab_type": "code",
    "id": "FbozJAkpkBd1"
   },
   "outputs": [],
   "source": [
    "X_train, X_val, y_train, y_val, desc_train, desc_val = train_test_split(X, y, train_descriptions, test_size=0.25)"
   ]
  },
  {
   "cell_type": "code",
   "execution_count": 0,
   "metadata": {
    "colab": {},
    "colab_type": "code",
    "id": "JSgXkVKwkQoL"
   },
   "outputs": [],
   "source": [
    "import numpy as np"
   ]
  },
  {
   "cell_type": "code",
   "execution_count": 0,
   "metadata": {
    "colab": {},
    "colab_type": "code",
    "id": "YBHVOhD4kQrl"
   },
   "outputs": [],
   "source": [
    "from tensorflow.keras import backend as K\n",
    "\n",
    "def root_mean_squared_error(y_true, y_pred):\n",
    "        return K.sqrt(K.mean(K.square(y_pred - y_true)))\n",
    "  \n",
    "model.compile(loss=root_mean_squared_error, optimizer = keras.optimizers.Adagrad(learning_rate = 0.1))\n"
   ]
  },
  {
   "cell_type": "code",
   "execution_count": 0,
   "metadata": {
    "colab": {
     "base_uri": "https://localhost:8080/",
     "height": 263
    },
    "colab_type": "code",
    "executionInfo": {
     "elapsed": 977242,
     "status": "ok",
     "timestamp": 1571798795810,
     "user": {
      "displayName": "Mawada Omer Alfaroug Mohammed Ahmed",
      "photoUrl": "",
      "userId": "07301576472949487528"
     },
     "user_tz": -120
    },
    "id": "A582l9brkKye",
    "outputId": "e840db0b-57e5-467a-eafa-0e5f1d0a0f33"
   },
   "outputs": [
    {
     "name": "stdout",
     "output_type": "stream",
     "text": [
      "WARNING:tensorflow:From /usr/local/lib/python3.6/dist-packages/tensorflow_core/python/ops/math_grad.py:1424: where (from tensorflow.python.ops.array_ops) is deprecated and will be removed in a future version.\n",
      "Instructions for updating:\n",
      "Use tf.where in 2.0, which has the same broadcast rule as np.where\n",
      "WARNING:tensorflow:From /usr/local/lib/python3.6/dist-packages/tensorflow_core/python/keras/optimizer_v2/adagrad.py:107: calling Constant.__init__ (from tensorflow.python.ops.init_ops) with dtype is deprecated and will be removed in a future version.\n",
      "Instructions for updating:\n",
      "Call initializer instance with the dtype argument instead of passing it to the constructor\n",
      "Train on 131250 samples, validate on 43750 samples\n",
      "Epoch 1/10\n",
      "131250/131250 [==============================] - 1157s 9ms/sample - loss: 23.9718 - val_loss: 20.0928\n",
      "Epoch 2/10\n",
      "131250/131250 [==============================] - 1143s 9ms/sample - loss: 18.8960 - val_loss: 18.4490\n",
      "Epoch 3/10\n",
      "131232/131250 [============================>.] - ETA: 0s - loss: 16.2823"
     ]
    }
   ],
   "source": [
    "model.fit(np.split(X_train, 5, axis=1)+[desc_train], y_train, validation_data=(np.split(X_val, 5, axis=1)+[desc_val], y_val), epochs=10)"
   ]
  },
  {
   "cell_type": "code",
   "execution_count": 0,
   "metadata": {
    "colab": {},
    "colab_type": "code",
    "id": "HK57EZNPkPOL"
   },
   "outputs": [],
   "source": [
    "X_test = test_data[['country', 'province', 'variety', 'winery', 'points' ]].values\n",
    "\n",
    "y_pred = model.predict(np.split(X_test, 5, axis=1)+[test_descriptions])\n",
    "\n",
    "print(test_data.shape)\n",
    "print(y_pred.shape)\n",
    "output = pd.DataFrame(dict(id=test_data.id, price=y_pred.reshape(-1,)))\n"
   ]
  },
  {
   "cell_type": "code",
   "execution_count": 0,
   "metadata": {
    "colab": {},
    "colab_type": "code",
    "id": "ujfGrqPhiCGB"
   },
   "outputs": [],
   "source": [
    "\n",
    "#output.to_csv(\"submission6.csv\", index=False)"
   ]
  },
  {
   "cell_type": "code",
   "execution_count": 0,
   "metadata": {
    "colab": {},
    "colab_type": "code",
    "id": "0vVxvQ4FpCWH"
   },
   "outputs": [],
   "source": [
    "#!kaggle competitions submit -c ammi-bootcamp-kaggle-competition -f submission6.csv -m \"sixth submission\""
   ]
  },
  {
   "cell_type": "markdown",
   "metadata": {
    "colab_type": "text",
    "id": "1RPIF21tx3yz"
   },
   "source": []
  },
  {
   "cell_type": "code",
   "execution_count": 0,
   "metadata": {
    "colab": {},
    "colab_type": "code",
    "id": "rz0ePrIJliHg"
   },
   "outputs": [],
   "source": []
  }
 ],
 "metadata": {
  "accelerator": "GPU",
  "colab": {
   "collapsed_sections": [],
   "name": "AMMI_BOOTCAMP_COMETITION_Mawada.ipynb",
   "provenance": []
  },
  "kernelspec": {
   "display_name": "Python 3",
   "language": "python",
   "name": "python3"
  },
  "language_info": {
   "codemirror_mode": {
    "name": "ipython",
    "version": 3
   },
   "file_extension": ".py",
   "mimetype": "text/x-python",
   "name": "python",
   "nbconvert_exporter": "python",
   "pygments_lexer": "ipython3",
   "version": "3.7.3"
  }
 },
 "nbformat": 4,
 "nbformat_minor": 1
}
